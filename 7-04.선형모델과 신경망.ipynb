{
 "cells": [
  {
   "cell_type": "markdown",
   "metadata": {},
   "source": [
    "# Chapter 7. 통계학과 머신러닝\n",
    "\n",
    "## 7.4 선형모델과 신경망"
   ]
  },
  {
   "cell_type": "markdown",
   "metadata": {},
   "source": [
    "### 7.4.10 분석준비"
   ]
  },
  {
   "cell_type": "code",
   "execution_count": 2,
   "metadata": {},
   "outputs": [
    {
     "data": {
      "text/plain": [
       "'%.3f'"
      ]
     },
     "execution_count": 2,
     "metadata": {},
     "output_type": "execute_result"
    }
   ],
   "source": [
    "# 수치 계산에 사용하는 라이브러리\n",
    "import numpy as np\n",
    "import pandas as pd\n",
    "import scipy as sp\n",
    "\n",
    "# 통계모델을 추정하는 데 사용하는 라이브러리\n",
    "import statsmodels.formula.api as smf\n",
    "import statsmodels.api as sm\n",
    "\n",
    "# 다층 퍼셉트론용 애플리케이션\n",
    "from sklearn.neural_network import MLPClassifier\n",
    "\n",
    "# 샘플 데이터 불러오기\n",
    "from sklearn.datasets import load_iris\n",
    "\n",
    "# 테스트 데이터와 훈련 데이터 분리\n",
    "from sklearn.model_selection import train_test_split\n",
    "\n",
    "# 데이터 표준화용 라이브러리\n",
    "from sklearn.preprocessing import StandardScaler\n",
    "\n",
    "# 표시자릿수 지정\n",
    "%precision 3"
   ]
  },
  {
   "cell_type": "markdown",
   "metadata": {},
   "source": [
    "### 7.4.11 데이터 읽기와 다듬기"
   ]
  },
  {
   "cell_type": "code",
   "execution_count": 3,
   "metadata": {},
   "outputs": [],
   "source": [
    "# 데이터 불러들이기\n",
    "iris = load_iris()"
   ]
  },
  {
   "cell_type": "code",
   "execution_count": 4,
   "metadata": {},
   "outputs": [
    {
     "data": {
      "text/plain": [
       "['sepal length (cm)',\n",
       " 'sepal width (cm)',\n",
       " 'petal length (cm)',\n",
       " 'petal width (cm)']"
      ]
     },
     "execution_count": 4,
     "metadata": {},
     "output_type": "execute_result"
    }
   ],
   "source": [
    "# 독립변수 이름\n",
    "iris.feature_names"
   ]
  },
  {
   "cell_type": "code",
   "execution_count": 5,
   "metadata": {},
   "outputs": [
    {
     "data": {
      "text/plain": [
       "array(['setosa', 'versicolor', 'virginica'], dtype='<U10')"
      ]
     },
     "execution_count": 5,
     "metadata": {},
     "output_type": "execute_result"
    }
   ],
   "source": [
    "# 종속변수 이름\n",
    "iris.target_names"
   ]
  },
  {
   "cell_type": "code",
   "execution_count": 6,
   "metadata": {},
   "outputs": [
    {
     "name": "stdout",
     "output_type": "stream",
     "text": [
      "독립변수 행 수, 열 수： (100, 2)\n",
      "종속변수 행 수, 열 수： (100,)\n"
     ]
    }
   ],
   "source": [
    "# 독립변수 sepal(꽃받침)만 가져옵니다\n",
    "X = iris.data[50:150, 0:2]\n",
    "# 붓꽃의 종류도 2개만 가져옵니다\n",
    "y = iris.target[50:150]\n",
    "\n",
    "print(\"독립변수 행 수, 열 수：\", X.shape)\n",
    "print(\"종속변수 행 수, 열 수：\", y.shape)"
   ]
  },
  {
   "cell_type": "code",
   "execution_count": 7,
   "metadata": {},
   "outputs": [
    {
     "name": "stdout",
     "output_type": "stream",
     "text": [
      "독립변수 행 수, 열 수： (75, 2)\n",
      "종속변수 행 수, 열 수： (75,)\n"
     ]
    }
   ],
   "source": [
    "# 데이터를 훈련데이터와 테스트 데이터로 분리\n",
    "X_train, X_test, y_train, y_test = train_test_split(\n",
    "    X, y, random_state = 2)\n",
    "\n",
    "print(\"독립변수 행 수, 열 수：\", X_train.shape)\n",
    "print(\"종속변수 행 수, 열 수：\", y_train.shape)"
   ]
  },
  {
   "cell_type": "markdown",
   "metadata": {},
   "source": [
    "### 7.4.12 로지스틱 회귀"
   ]
  },
  {
   "cell_type": "code",
   "execution_count": 8,
   "metadata": {},
   "outputs": [
    {
     "data": {
      "text/plain": [
       "array([1, 1, 2, 2, 2, 2, 1, 1, 1, 1])"
      ]
     },
     "execution_count": 8,
     "metadata": {},
     "output_type": "execute_result"
    }
   ],
   "source": [
    "# 종속변수\n",
    "y_train[0:10]"
   ]
  },
  {
   "cell_type": "code",
   "execution_count": 9,
   "metadata": {},
   "outputs": [
    {
     "name": "stdout",
     "output_type": "stream",
     "text": [
      "   species  sepal_len  sepal_wid\n",
      "0        0        5.7        2.8\n",
      "1        0        6.6        3.0\n",
      "2        1        6.1        3.0\n"
     ]
    }
   ],
   "source": [
    "# 데이터 정리\n",
    "# 독립변수 데이터프레임\n",
    "X_train_df = pd.DataFrame(\n",
    "    X_train, columns = [\"sepal_len\", \"sepal_wid\"])\n",
    "# 종속변수 데이터프레임\n",
    "y_train_df = pd.DataFrame({\"species\": y_train - 1})\n",
    "# 데이터프레임 결합\n",
    "iris_train_df = pd.concat(\n",
    "    [y_train_df, X_train_df], axis=1)\n",
    "# 결과 출력\n",
    "print(iris_train_df.head(3))"
   ]
  },
  {
   "cell_type": "code",
   "execution_count": 10,
   "metadata": {},
   "outputs": [
    {
     "name": "stdout",
     "output_type": "stream",
     "text": [
      "full 76.813\n",
      "len  76.234\n",
      "wid  92.768\n",
      "null 105.318\n"
     ]
    }
   ],
   "source": [
    "# 모델로 만들기\n",
    "# 모든 변수를 넣은 모델\n",
    "logi_mod_full = smf.glm(\n",
    "    \"species ~ sepal_len + sepal_wid\", data = iris_train_df,\n",
    "    family=sm.families.Binomial()).fit()\n",
    "\n",
    "# 길이만\n",
    "logi_mod_len = smf.glm(\n",
    "    \"species ~ sepal_len\", data = iris_train_df,\n",
    "    family=sm.families.Binomial()).fit()\n",
    "\n",
    "# 폭만\n",
    "logi_mod_wid = smf.glm(\n",
    "    \"species ~ sepal_wid\", data = iris_train_df,\n",
    "    family=sm.families.Binomial()).fit()\n",
    "\n",
    "# Null모델\n",
    "logi_mod_null = smf.glm(\n",
    "    \"species ~ 1\", data = iris_train_df,\n",
    "    family=sm.families.Binomial()).fit()\n",
    "\n",
    "# AIC비교\n",
    "print(\"full\", logi_mod_full.aic.round(3))\n",
    "print(\"len \", logi_mod_len.aic.round(3))\n",
    "print(\"wid \", logi_mod_wid.aic.round(3))\n",
    "print(\"null\", logi_mod_null.aic.round(3))"
   ]
  },
  {
   "cell_type": "code",
   "execution_count": 11,
   "metadata": {},
   "outputs": [
    {
     "data": {
      "text/html": [
       "<table class=\"simpletable\">\n",
       "<tr>\n",
       "      <td></td>         <th>coef</th>     <th>std err</th>      <th>z</th>      <th>P>|z|</th>  <th>[0.025</th>    <th>0.975]</th>  \n",
       "</tr>\n",
       "<tr>\n",
       "  <th>Intercept</th> <td>  -16.4152</td> <td>    4.000</td> <td>   -4.104</td> <td> 0.000</td> <td>  -24.256</td> <td>   -8.575</td>\n",
       "</tr>\n",
       "<tr>\n",
       "  <th>sepal_len</th> <td>    2.6478</td> <td>    0.639</td> <td>    4.142</td> <td> 0.000</td> <td>    1.395</td> <td>    3.901</td>\n",
       "</tr>\n",
       "</table>"
      ],
      "text/plain": [
       "<class 'statsmodels.iolib.table.SimpleTable'>"
      ]
     },
     "execution_count": 11,
     "metadata": {},
     "output_type": "execute_result"
    }
   ],
   "source": [
    "# 추정된 계수\n",
    "logi_mod_len.summary().tables[1]"
   ]
  },
  {
   "cell_type": "code",
   "execution_count": 12,
   "metadata": {},
   "outputs": [
    {
     "name": "stdout",
     "output_type": "stream",
     "text": [
      "訓練データの的中率　： 0.7466666666666667\n",
      "テストデータの的中率： 0.68\n"
     ]
    },
    {
     "name": "stderr",
     "output_type": "stream",
     "text": [
      "C:\\ProgramData\\Anaconda3\\lib\\site-packages\\ipykernel_launcher.py:10: DeprecationWarning: scipy.sum is deprecated and will be removed in SciPy 2.0.0, use numpy.sum instead\n",
      "  # Remove the CWD from sys.path while we load stuff.\n",
      "C:\\ProgramData\\Anaconda3\\lib\\site-packages\\ipykernel_launcher.py:11: DeprecationWarning: scipy.sum is deprecated and will be removed in SciPy 2.0.0, use numpy.sum instead\n",
      "  # This is added back by InteractiveShellApp.init_path()\n"
     ]
    }
   ],
   "source": [
    "# 데이터 정리\n",
    "X_test_df = pd.DataFrame(\n",
    "    X_test, columns = [\"sepal_len\", \"sepal_wid\"])\n",
    "\n",
    "# 피팅 예측\n",
    "logi_fit = logi_mod_len.fittedvalues.round(0)\n",
    "logi_pred = logi_mod_len.predict(X_test_df).round(0)\n",
    "\n",
    "# 정답 수\n",
    "true_train = sp.sum(logi_fit == (y_train - 1))\n",
    "true_test = sp.sum(logi_pred == (y_test - 1))\n",
    "\n",
    "# 적중률\n",
    "result_train = true_train / len(y_train)\n",
    "result_test = true_test / len(y_test)\n",
    "\n",
    "# 결과출력\n",
    "print(\"訓練データの的中率　：\", result_train)\n",
    "print(\"テストデータの的中率：\", result_test)"
   ]
  },
  {
   "cell_type": "markdown",
   "metadata": {},
   "source": [
    "### 7.4.13 표준화"
   ]
  },
  {
   "cell_type": "code",
   "execution_count": 13,
   "metadata": {},
   "outputs": [],
   "source": [
    "# 표준화를 위한 준비\n",
    "scaler = StandardScaler()\n",
    "scaler.fit(X_train)\n",
    "# 표준화\n",
    "X_train_scaled = scaler.transform(X_train)\n",
    "X_test_scaled = scaler.transform(X_test)"
   ]
  },
  {
   "cell_type": "code",
   "execution_count": 14,
   "metadata": {},
   "outputs": [
    {
     "name": "stderr",
     "output_type": "stream",
     "text": [
      "C:\\ProgramData\\Anaconda3\\lib\\site-packages\\ipykernel_launcher.py:1: DeprecationWarning: scipy.std is deprecated and will be removed in SciPy 2.0.0, use numpy.std instead\n",
      "  \"\"\"Entry point for launching an IPython kernel.\n"
     ]
    },
    {
     "data": {
      "text/plain": [
       "array([1., 1.])"
      ]
     },
     "execution_count": 14,
     "metadata": {},
     "output_type": "execute_result"
    }
   ],
   "source": [
    "sp.std(X_train_scaled, axis=0)"
   ]
  },
  {
   "cell_type": "code",
   "execution_count": 27,
   "metadata": {},
   "outputs": [
    {
     "data": {
      "text/plain": [
       "array([ 0.74 ,  0.679])"
      ]
     },
     "execution_count": 27,
     "metadata": {},
     "output_type": "execute_result"
    }
   ],
   "source": [
    "sp.std(X_test_scaled, axis=0)"
   ]
  },
  {
   "cell_type": "markdown",
   "metadata": {},
   "source": [
    "### 7.4.14 신경망"
   ]
  },
  {
   "cell_type": "code",
   "execution_count": 16,
   "metadata": {},
   "outputs": [
    {
     "name": "stdout",
     "output_type": "stream",
     "text": [
      "훈련데이터 적중률　： 0.8933333333333333\n",
      "테스트데이터 적중률： 0.68\n"
     ]
    }
   ],
   "source": [
    "nnet = MLPClassifier(\n",
    "    hidden_layer_sizes = (100,100),\n",
    "    alpha = 0.07,\n",
    "    max_iter = 10000,\n",
    "    random_state = 0)\n",
    "nnet.fit(X_train_scaled, y_train)\n",
    "\n",
    "# 정답률\n",
    "print(\"훈련데이터 적중률　：\", nnet.score(X_train_scaled, y_train))\n",
    "print(\"테스트데이터 적중률：\", nnet.score(X_test_scaled, y_test))"
   ]
  },
  {
   "cell_type": "code",
   "execution_count": null,
   "metadata": {
    "collapsed": true,
    "jupyter": {
     "outputs_hidden": true
    }
   },
   "outputs": [],
   "source": []
  }
 ],
 "metadata": {
  "kernelspec": {
   "display_name": "Python 3",
   "language": "python",
   "name": "python3"
  },
  "language_info": {
   "codemirror_mode": {
    "name": "ipython",
    "version": 3
   },
   "file_extension": ".py",
   "mimetype": "text/x-python",
   "name": "python",
   "nbconvert_exporter": "python",
   "pygments_lexer": "ipython3",
   "version": "3.7.6"
  }
 },
 "nbformat": 4,
 "nbformat_minor": 4
}
