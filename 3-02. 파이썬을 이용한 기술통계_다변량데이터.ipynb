{
 "cells": [
  {
   "cell_type": "markdown",
   "metadata": {},
   "source": [
    "# Chapter 3. 파이썬을 이용한 데이터 분석\n",
    "\n",
    "## 3.2 파이썬을 이용한 기술통계: 다변량 데이터\n",
    "\n",
    "#### 다변량 데이터: 여러 개의 변수를 조합한 데이터  \n",
    " 예: 구두 판매액과 구두 색의 조합    "
   ]
  },
  {
   "cell_type": "markdown",
   "metadata": {},
   "source": [
    "### 3.2.1. 깔끔한 데이터(Tidy Data)\n",
    " - 분석하기 쉽게 정리한 표 형태의 데이터\n",
    " \n",
    "| 물고기 종류 | 물고기 몸길이 |\n",
    "| ----------- | ------------- |\n",
    "| A           | 2             |\n",
    "| A           | 3             |\n",
    "| A           | 4             |\n",
    "| B           | 7             |\n",
    "| B           | 8             |\n",
    "| B           | 9             |\n",
    "\n",
    "\n",
    " \n",
    " * 개별 값이 하나의 셀을 이룸\n",
    " * 개별 변수가 하나의 열을 이룸\n",
    " * 개별 관측이 하나의 행을 이룸\n",
    " * 개별 관측 유닛 유형이 하나의 표를 이룸\n",
    " \n",
    "------------\n",
    "\n",
    "### 3.2.2. 지저분한 데이터\n",
    "\n",
    "(표안의 숫자: 물고기의 몸길이)\n",
    "\n",
    "| A종 물고기 | B종 물고기 |\n",
    "| ---------- | ---------- |\n",
    "| 2          | 7          |\n",
    "| 3          | 8          |\n",
    "| 4          | 9          |\n",
    "\n",
    "\n",
    "▷열 이름이 명시적으로 표시되지 않았기 때문에  \n",
    "    물고기의 몸길이인지, 무게인지 알 수 없음\n",
    "\n",
    "-----------------\n",
    "### 3.2.3. 교차분석표\n",
    "\n",
    "* 깔끔한 데이터\n",
    "\n",
    "| 가게위치 | 구두색 | 구두가 팔린 수 |\n",
    "| -------- | ------ | -------------- |\n",
    "| 서울점   | 파랑   | 13             |\n",
    "| 서울점   | 빨강   | 9              |\n",
    "| 대구점   | 파랑   | 10             |\n",
    "| 대구점   | 빨강   | 15             |\n",
    "\n",
    "\n",
    "* 지저분한 데이터\n",
    " - 교차분석표(분할표)\n",
    " - 행이 변수의 의미를 갖는 경향이 있음: 행의 변수에 '가게 위치'라는 의미가 있음\n",
    " - 사람이 보기에는 좋으나, 데이터를 유지, 관리, 공개, 재사용하려는 목적으로는 좋지 않음\n",
    " \n",
    "|          |        | 구두색 |      |\n",
    "| -------- | ------ | ------ | ---- |\n",
    "|          |        | 파랑   | 빨강 |\n",
    "| 가게위치 | 서울점 | 13     | 15   |\n",
    "|          | 대구점 | 10     | 15   |\n",
    "\n",
    "-----------------"
   ]
  },
  {
   "cell_type": "markdown",
   "metadata": {},
   "source": [
    "### 3.2.4. 다변량 데이터와 pandas 데이터 프레임"
   ]
  },
  {
   "cell_type": "code",
   "execution_count": 2,
   "metadata": {},
   "outputs": [
    {
     "data": {
      "text/plain": [
       "'%.3f'"
      ]
     },
     "execution_count": 2,
     "metadata": {},
     "output_type": "execute_result"
    }
   ],
   "source": [
    "# 수치 계산에 사용하는 라이브러리\n",
    "import pandas as pd\n",
    "import scipy as sp\n",
    "import numpy as np\n",
    "\n",
    "# 표시 자릿수 지정\n",
    "%precision 3"
   ]
  },
  {
   "cell_type": "code",
   "execution_count": 3,
   "metadata": {},
   "outputs": [
    {
     "name": "stdout",
     "output_type": "stream",
     "text": [
      "  species  length\n",
      "0       A       2\n",
      "1       A       3\n",
      "2       A       4\n",
      "3       B       6\n",
      "4       B       8\n",
      "5       B      10\n"
     ]
    }
   ],
   "source": [
    "fish_multi = pd.read_csv(\"3-2-1-fish_multi.csv\")\n",
    "print(fish_multi)"
   ]
  },
  {
   "cell_type": "markdown",
   "metadata": {},
   "source": [
    "### 3.2.5. 그룹별 통계량 계산하기"
   ]
  },
  {
   "cell_type": "code",
   "execution_count": 4,
   "metadata": {},
   "outputs": [
    {
     "name": "stdout",
     "output_type": "stream",
     "text": [
      "         length\n",
      "species        \n",
      "A             3\n",
      "B             8\n"
     ]
    }
   ],
   "source": [
    "# 물고기 종류마다의 집계\n",
    "group = fish_multi.groupby(\"species\")\n",
    "# 그룹별 평균\n",
    "print(group.mean())"
   ]
  },
  {
   "cell_type": "code",
   "execution_count": 5,
   "metadata": {},
   "outputs": [
    {
     "name": "stdout",
     "output_type": "stream",
     "text": [
      "         length\n",
      "species        \n",
      "A           1.0\n",
      "B           2.0\n"
     ]
    }
   ],
   "source": [
    "# 그룹별 표준편차\n",
    "print(group.std(ddof = 1))"
   ]
  },
  {
   "cell_type": "code",
   "execution_count": 6,
   "metadata": {},
   "outputs": [
    {
     "data": {
      "text/html": [
       "<div>\n",
       "<style scoped>\n",
       "    .dataframe tbody tr th:only-of-type {\n",
       "        vertical-align: middle;\n",
       "    }\n",
       "\n",
       "    .dataframe tbody tr th {\n",
       "        vertical-align: top;\n",
       "    }\n",
       "\n",
       "    .dataframe thead tr th {\n",
       "        text-align: left;\n",
       "    }\n",
       "\n",
       "    .dataframe thead tr:last-of-type th {\n",
       "        text-align: right;\n",
       "    }\n",
       "</style>\n",
       "<table border=\"1\" class=\"dataframe\">\n",
       "  <thead>\n",
       "    <tr>\n",
       "      <th></th>\n",
       "      <th colspan=\"8\" halign=\"left\">length</th>\n",
       "    </tr>\n",
       "    <tr>\n",
       "      <th></th>\n",
       "      <th>count</th>\n",
       "      <th>mean</th>\n",
       "      <th>std</th>\n",
       "      <th>min</th>\n",
       "      <th>25%</th>\n",
       "      <th>50%</th>\n",
       "      <th>75%</th>\n",
       "      <th>max</th>\n",
       "    </tr>\n",
       "    <tr>\n",
       "      <th>species</th>\n",
       "      <th></th>\n",
       "      <th></th>\n",
       "      <th></th>\n",
       "      <th></th>\n",
       "      <th></th>\n",
       "      <th></th>\n",
       "      <th></th>\n",
       "      <th></th>\n",
       "    </tr>\n",
       "  </thead>\n",
       "  <tbody>\n",
       "    <tr>\n",
       "      <th>A</th>\n",
       "      <td>3.0</td>\n",
       "      <td>3.0</td>\n",
       "      <td>1.0</td>\n",
       "      <td>2.0</td>\n",
       "      <td>2.5</td>\n",
       "      <td>3.0</td>\n",
       "      <td>3.5</td>\n",
       "      <td>4.0</td>\n",
       "    </tr>\n",
       "    <tr>\n",
       "      <th>B</th>\n",
       "      <td>3.0</td>\n",
       "      <td>8.0</td>\n",
       "      <td>2.0</td>\n",
       "      <td>6.0</td>\n",
       "      <td>7.0</td>\n",
       "      <td>8.0</td>\n",
       "      <td>9.0</td>\n",
       "      <td>10.0</td>\n",
       "    </tr>\n",
       "  </tbody>\n",
       "</table>\n",
       "</div>"
      ],
      "text/plain": [
       "        length                                    \n",
       "         count mean  std  min  25%  50%  75%   max\n",
       "species                                           \n",
       "A          3.0  3.0  1.0  2.0  2.5  3.0  3.5   4.0\n",
       "B          3.0  8.0  2.0  6.0  7.0  8.0  9.0  10.0"
      ]
     },
     "execution_count": 6,
     "metadata": {},
     "output_type": "execute_result"
    }
   ],
   "source": [
    "# 평균, 표준편차, 백분위값\n",
    "group.describe()"
   ]
  },
  {
   "cell_type": "markdown",
   "metadata": {},
   "source": [
    "### 3.2.6. 교차분석표 구현하기\n",
    "\n",
    "가게위치, 색깔별 구두의 판매 데이터"
   ]
  },
  {
   "cell_type": "code",
   "execution_count": 8,
   "metadata": {},
   "outputs": [
    {
     "name": "stdout",
     "output_type": "stream",
     "text": [
      "   store color  sales\n",
      "0  tokyo  blue     10\n",
      "1  tokyo   red     15\n",
      "2  osaka  blue     13\n",
      "3  osaka   red      9\n"
     ]
    }
   ],
   "source": [
    "shoes = pd.read_csv(\"3-2-2-shoes.csv\")\n",
    "print(shoes)"
   ]
  },
  {
   "cell_type": "code",
   "execution_count": 10,
   "metadata": {},
   "outputs": [
    {
     "name": "stdout",
     "output_type": "stream",
     "text": [
      "color  blue  red\n",
      "store           \n",
      "osaka    13    9\n",
      "tokyo    10   15\n"
     ]
    }
   ],
   "source": [
    "cross = pd.pivot_table(\n",
    "    data = shoes,         # 데이터를 지정\n",
    "    values = \"sales\",     # 데이터를 모을 열 지정\n",
    "    aggfunc = \"sum\",      # 데이터를 모을 함수 지정\n",
    "    index = \"store\",      # 교차분석표의 행 지정\n",
    "    columns = \"color\"     # 교차분석표의 열 지정\n",
    ")\n",
    "print(cross)"
   ]
  },
  {
   "cell_type": "markdown",
   "metadata": {},
   "source": [
    "### 3.2.9. 공분산\n",
    "\n",
    "실수값을 지니는 2개의 확률변수 *X*와 *Y*에 대해서 공분산의 기댓값은 아래와 같이 나타낼 수 있다.\n",
    "\n",
    "![E(X)=\\mu ,E(Y)=\\nu ](https://wikimedia.org/api/rest_v1/media/math/render/svg/a4f1d48eb9fb1282969b0fb60ee8d7088d954953)\n",
    "\n",
    "\n",
    "\n",
    "\n",
    "공분산: 2개의 연속형 변수의 관계성을 확인하는 통계량\n",
    "![{\\displaystyle \\operatorname {Cov} (X,Y)=\\operatorname {E} \\left((X-\\mu )(Y-\\nu )\\right)\\,}](https://wikimedia.org/api/rest_v1/media/math/render/svg/435d5740798f0ec6c3fdf5cf70c82fa78c2e0f77)\n",
    "\n",
    "* 공분산이 0보다 클 때: 변수 한 쪽이 큰 값을 갖게 되면 다른 한 쪽도 커짐\n",
    "* 공분산이 0보다 작을 때: 변수 한 쪽이 큰 값을 갖게되면 다른 한쪽은 작아짐\n",
    "* 공분산이 0일 때: 변수 사이의 관계성이 없음"
   ]
  },
  {
   "cell_type": "code",
   "execution_count": 11,
   "metadata": {},
   "outputs": [
    {
     "name": "stdout",
     "output_type": "stream",
     "text": [
      "      x   y\n",
      "0  18.5  34\n",
      "1  18.7  39\n",
      "2  19.1  41\n",
      "3  19.7  38\n",
      "4  21.5  45\n",
      "5  21.7  41\n",
      "6  21.8  52\n",
      "7  22.0  44\n",
      "8  23.4  44\n",
      "9  23.8  49\n"
     ]
    }
   ],
   "source": [
    "cov_data = pd.read_csv(\"3-2-3-cov.csv\")\n",
    "print(cov_data)"
   ]
  },
  {
   "cell_type": "code",
   "execution_count": 12,
   "metadata": {},
   "outputs": [],
   "source": [
    "# 데이터 분리\n",
    "x = cov_data[\"x\"]\n",
    "y = cov_data[\"y\"]\n",
    "\n",
    "# 표본 크기\n",
    "N = len(cov_data)\n",
    "\n",
    "# 평균 계산\n",
    "mu_x = np.mean(x)\n",
    "mu_y = np.mean(y)"
   ]
  },
  {
   "cell_type": "code",
   "execution_count": 32,
   "metadata": {},
   "outputs": [
    {
     "data": {
      "text/plain": [
       "6.906"
      ]
     },
     "execution_count": 32,
     "metadata": {},
     "output_type": "execute_result"
    }
   ],
   "source": [
    "# 표본 공분산\n",
    "cov_sample = sum((x - mu_x) * (y - mu_y)) / N\n",
    "cov_sample"
   ]
  },
  {
   "cell_type": "code",
   "execution_count": 33,
   "metadata": {},
   "outputs": [
    {
     "data": {
      "text/plain": [
       "7.673"
      ]
     },
     "execution_count": 33,
     "metadata": {},
     "output_type": "execute_result"
    }
   ],
   "source": [
    "# 공분산\n",
    "cov = sum((x - mu_x) * (y - mu_y)) / (N - 1)\n",
    "cov"
   ]
  },
  {
   "cell_type": "code",
   "execution_count": 15,
   "metadata": {},
   "outputs": [
    {
     "data": {
      "image/png": "[encoded data removed]",
      "text/plain": [
       "<Figure size 432x288 with 1 Axes>"
      ]
     },
     "metadata": {},
     "output_type": "display_data"
    }
   ],
   "source": [
    "# import seaborn as sns; sns.set()\n",
    "# import matplotlib.pyplot as plt\n",
    "# ax = sns.scatterplot(x=x, y=y, data=cov_data)"
   ]
  },
  {
   "cell_type": "markdown",
   "metadata": {
    "collapsed": true
   },
   "source": [
    "### 3.2.10. 분산-공분산 행렬(실습)"
   ]
  },
  {
   "cell_type": "code",
   "execution_count": 37,
   "metadata": {},
   "outputs": [
    {
     "data": {
      "text/plain": [
       "array([[ 3.282,  6.906],\n",
       "       [ 6.906, 25.21 ]])"
      ]
     },
     "execution_count": 37,
     "metadata": {},
     "output_type": "execute_result"
    }
   ],
   "source": [
    "# 표본 공분산\n",
    "np.cov(x, y, ddof = 0)"
   ]
  },
  {
   "cell_type": "code",
   "execution_count": 39,
   "metadata": {},
   "outputs": [
    {
     "data": {
      "text/plain": [
       "array([[ 3.646,  7.673],\n",
       "       [ 7.673, 28.011]])"
      ]
     },
     "execution_count": 39,
     "metadata": {},
     "output_type": "execute_result"
    }
   ],
   "source": [
    "# 공분산(ddof=1)\n",
    "np.cov(x, y, ddof = 1)"
   ]
  },
  {
   "cell_type": "markdown",
   "metadata": {
    "collapsed": true
   },
   "source": [
    "### 3.2.11. 피어슨 상관계수\n",
    "* 피어슨 상관계수: 공분산을 최대값 1, 최소값 -1 사이가 되도록 표준화 하는 것\n",
    "* 공분산의 값(양수/음수/0)으로 두 변수간 얼마나 연관관계가 있는지 알기 어렵기 때문에 상관계수를 사용\n",
    " "
   ]
  },
  {
   "cell_type": "code",
   "execution_count": 43,
   "metadata": {},
   "outputs": [
    {
     "data": {
      "text/plain": [
       "0.7592719041137088"
      ]
     },
     "execution_count": 43,
     "metadata": {},
     "output_type": "execute_result"
    }
   ],
   "source": [
    "# 분산 계산\n",
    "sigma_2_x = np.var(x, ddof = 1)\n",
    "sigma_2_y = np.var(y, ddof = 1)\n",
    "\n",
    "# 상관계수\n",
    "rho = cov / np.sqrt(sigma_2_x * sigma_2_y)\n",
    "rho"
   ]
  },
  {
   "cell_type": "code",
   "execution_count": 45,
   "metadata": {},
   "outputs": [
    {
     "data": {
      "text/plain": [
       "0.7592719041137087"
      ]
     },
     "execution_count": 45,
     "metadata": {},
     "output_type": "execute_result"
    }
   ],
   "source": [
    "# 분산 계산\n",
    "sigma_2_x_sample = np.var(x, ddof = 0)\n",
    "sigma_2_y_sample = np.var(y, ddof = 0)\n",
    "\n",
    "# 상관계수\n",
    "cov_sample / np.sqrt(sigma_2_x_sample * sigma_2_y_sample)"
   ]
  },
  {
   "cell_type": "code",
   "execution_count": 47,
   "metadata": {},
   "outputs": [
    {
     "data": {
      "text/plain": [
       "array([[1.   , 0.759],\n",
       "       [0.759, 1.   ]])"
      ]
     },
     "execution_count": 47,
     "metadata": {},
     "output_type": "execute_result"
    }
   ],
   "source": [
    "# 상관행렬\n",
    "np.corrcoef(x, y)"
   ]
  },
  {
   "cell_type": "markdown",
   "metadata": {},
   "source": [
    "### 3.2.14. 상관계수가 무의미 할 때\n",
    "\n",
    " * 상관계수가 0에 가까운 값을 갖는 경우, 상관계수가 무의미함\n",
    " * 실제 그래프를 그려서 관계를 확인해야함\n"
   ]
  },
  {
   "cell_type": "markdown",
   "metadata": {},
   "source": [
    "# [정리]\n",
    "\n",
    "\"3-2-3-cov.csv\"데이터를 읽어서 각 변수간의 상관관계를 파악해보기"
   ]
  },
  {
   "cell_type": "code",
   "execution_count": 17,
   "metadata": {},
   "outputs": [],
   "source": [
    "# 1. 데이터 읽어들이기\n",
    "cov_data = pd.read_csv(\"3-2-3-cov.csv\")"
   ]
  },
  {
   "cell_type": "code",
   "execution_count": 18,
   "metadata": {},
   "outputs": [],
   "source": [
    "# 2. 데이터 출력하기"
   ]
  },
  {
   "cell_type": "code",
   "execution_count": 22,
   "metadata": {},
   "outputs": [],
   "source": [
    "# 공분산: 두 변수의 관계성 확인\n",
    "# 3. 공분산 구하기"
   ]
  },
  {
   "cell_type": "code",
   "execution_count": 2,
   "metadata": {},
   "outputs": [],
   "source": [
    "# (피어슨) 상관계수: 공분산을 -1~1 사이의 값으로 표준화\n",
    "# 4. (피어슨)상관계수 구하기"
   ]
  },
  {
   "cell_type": "code",
   "execution_count": null,
   "metadata": {},
   "outputs": [],
   "source": []
  }
 ],
 "metadata": {
  "kernelspec": {
   "display_name": "Python 3",
   "language": "python",
   "name": "python3"
  },
  "language_info": {
   "codemirror_mode": {
    "name": "ipython",
    "version": 3
   },
   "file_extension": ".py",
   "mimetype": "text/x-python",
   "name": "python",
   "nbconvert_exporter": "python",
   "pygments_lexer": "ipython3",
   "version": "3.7.6"
  },
  "toc": {
   "base_numbering": 1,
   "nav_menu": {},
   "number_sections": false,
   "sideBar": true,
   "skip_h1_title": false,
   "title_cell": "Table of Contents",
   "title_sidebar": "Contents",
   "toc_cell": false,
   "toc_position": {
    "height": "calc(100% - 180px)",
    "left": "10px",
    "top": "150px",
    "width": "250.667px"
   },
   "toc_section_display": true,
   "toc_window_display": true
  }
 },
 "nbformat": 4,
 "nbformat_minor": 2
}
