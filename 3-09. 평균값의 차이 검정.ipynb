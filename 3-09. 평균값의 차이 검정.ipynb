{
 "cells": [
  {
   "cell_type": "markdown",
   "metadata": {},
   "source": [
    "# Chapter 3. 파이썬을 이용한 데이터 분석\n",
    "\n",
    "## 3.9 평균값의 차이 검정\n",
    "\n",
    "\n",
    "* 약을 먹기 전과 약을 먹은 후의 체온 차이가 의미있는 차이인지 알아보기\n",
    "\n",
    "\n",
    "| 피경험자 | 약 먹기전 체온 | 약 먹은 후 체온 | 차이 |\n",
    "| -------- | -------------- | --------------- | ---- |\n",
    "| A        | 36.2           | 36.8            | 0.6  |\n",
    "| B        | 36.2           | 36.1            | -0.1 |\n",
    "| C        | 35.3           | 36.8            | 1.5  |\n",
    "| D        | 36.1           | 37.1            | 1    |\n",
    "| E        | 36.1           | 36.9            | 0.8  |\n",
    "\n",
    "\n",
    "* 귀무가설: 약을 먹기 전과 후의 체온이 변하지 않는다\n",
    "* 대립가설: 약을 먹기 전과 후의 체운이 다르다\n",
    "* 유의수준 5%\n",
    "    * p <= 0.05 : 귀무가설 기각"
   ]
  },
  {
   "cell_type": "markdown",
   "metadata": {},
   "source": [
    "### 3.9.3. 분석준비"
   ]
  },
  {
   "cell_type": "code",
   "execution_count": 1,
   "metadata": {},
   "outputs": [],
   "source": [
    "# 수치 계산에 사용하는 라이브러리\n",
    "import numpy as np\n",
    "import pandas as pd\n",
    "import scipy as sp\n",
    "from scipy import stats\n",
    "\n",
    "# 그래프를 그리기 위한 라이브러리\n",
    "from matplotlib import pyplot as plt\n",
    "import seaborn as sns\n",
    "sns.set()\n",
    "\n",
    "# 표시자릿수 지정\n",
    "%precision 3\n",
    "# 그래프를 주피터 노트북에 그리기 위한 설정\n",
    "%matplotlib inline"
   ]
  },
  {
   "cell_type": "code",
   "execution_count": 2,
   "metadata": {
    "scrolled": true
   },
   "outputs": [
    {
     "name": "stdout",
     "output_type": "stream",
     "text": [
      "  person medicine  body_temperature\n",
      "0      A   before              36.2\n",
      "1      B   before              36.2\n",
      "2      C   before              35.3\n",
      "3      D   before              36.1\n",
      "4      E   before              36.1\n",
      "5      A    after              36.8\n",
      "6      B    after              36.1\n",
      "7      C    after              36.8\n",
      "8      D    after              37.1\n",
      "9      E    after              36.9\n"
     ]
    }
   ],
   "source": [
    "# 데이터 로드\n",
    "paired_test_data = pd.read_csv(\n",
    "    \"3-9-1-paired-t-test.csv\")\n",
    "print(paired_test_data)"
   ]
  },
  {
   "cell_type": "markdown",
   "metadata": {},
   "source": [
    "### 3.9.4. 대응표본 t검정\n",
    "\n",
    "* 데이터의 차이를 보고 1집단 t검정 진행"
   ]
  },
  {
   "cell_type": "code",
   "execution_count": 3,
   "metadata": {},
   "outputs": [
    {
     "data": {
      "text/plain": [
       "array([ 0.6, -0.1,  1.5,  1. ,  0.8])"
      ]
     },
     "execution_count": 3,
     "metadata": {},
     "output_type": "execute_result"
    }
   ],
   "source": [
    "# 약을 먹기 전과 후의 표본평균\n",
    "before = paired_test_data.query(\n",
    "    'medicine == \"before\"')[\"body_temperature\"]\n",
    "after = paired_test_data.query(\n",
    "    'medicine == \"after\"')[\"body_temperature\"]\n",
    "# 배열형으로 변환\n",
    "before = np.array(before)\n",
    "after = np.array(after)\n",
    "# 차이계산\n",
    "diff = after - before\n",
    "diff"
   ]
  },
  {
   "cell_type": "code",
   "execution_count": 4,
   "metadata": {},
   "outputs": [
    {
     "data": {
      "text/plain": [
       "Ttest_1sampResult(statistic=2.901693483620596, pvalue=0.044043109730074276)"
      ]
     },
     "execution_count": 4,
     "metadata": {},
     "output_type": "execute_result"
    }
   ],
   "source": [
    "# 평균이 0과 다른지 검정\n",
    "# ttest_1samp: 1집단 t검정\n",
    "stats.ttest_1samp(diff, 0)"
   ]
  },
  {
   "cell_type": "code",
   "execution_count": 5,
   "metadata": {},
   "outputs": [
    {
     "data": {
      "text/plain": [
       "Ttest_relResult(statistic=2.901693483620596, pvalue=0.044043109730074276)"
      ]
     },
     "execution_count": 5,
     "metadata": {},
     "output_type": "execute_result"
    }
   ],
   "source": [
    "# t검정\n",
    "stats.ttest_rel(after, before)"
   ]
  },
  {
   "cell_type": "markdown",
   "metadata": {},
   "source": [
    "[결론]\n",
    "\n",
    "p값이 0.05보다 작으므로 귀무가설은 기각된다.  \n",
    "약을 먹기 전과 후의 체온은 유의미한 차이가 있다고 주장할 수 있다"
   ]
  },
  {
   "cell_type": "markdown",
   "metadata": {},
   "source": [
    "### 3.9.6. 독립표본 t검정\n",
    "* 평균값의 차이를 사용하여 t검정"
   ]
  },
  {
   "cell_type": "code",
   "execution_count": 6,
   "metadata": {},
   "outputs": [
    {
     "data": {
      "text/plain": [
       "3.1557282344421034"
      ]
     },
     "execution_count": 6,
     "metadata": {},
     "output_type": "execute_result"
    }
   ],
   "source": [
    "# 평균값\n",
    "mean_bef = np.mean(before)\n",
    "mean_aft = np.mean(after)\n",
    "\n",
    "# 분산\n",
    "sigma_bef = np.var(before, ddof = 1)\n",
    "sigma_aft = np.var(after, ddof = 1)\n",
    "\n",
    "# 샘플사이즈\n",
    "m = len(before)\n",
    "n = len(after)\n",
    "\n",
    "# t값\n",
    "t_value = (mean_aft - mean_bef) / \\\n",
    "    np.sqrt((sigma_bef/m + sigma_aft/n))\n",
    "t_value"
   ]
  },
  {
   "cell_type": "code",
   "execution_count": 7,
   "metadata": {},
   "outputs": [
    {
     "data": {
      "text/plain": [
       "Ttest_indResult(statistic=3.1557282344421034, pvalue=0.013484775682079892)"
      ]
     },
     "execution_count": 7,
     "metadata": {},
     "output_type": "execute_result"
    }
   ],
   "source": [
    "stats.ttest_ind(after, before, equal_var = False)"
   ]
  },
  {
   "cell_type": "markdown",
   "metadata": {},
   "source": [
    "[결론]\n",
    "\n",
    "p값이 0.05보다 작으므로 귀무가설은 기각된다.  \n",
    "약을 먹기 전과 후의 체온은 유의미한 차이가 있다고 주장할 수 있다"
   ]
  },
  {
   "cell_type": "markdown",
   "metadata": {},
   "source": [
    "### [정리]\n",
    "\n",
    "1. 대응표본 t검정(paired sample t-test)\n",
    "\n",
    "   - 단일 모집단에 대해 두 번의 처리를 가했을 떄, 두 개의 처리에 대한 차이를 비교\n",
    "\n",
    "   - stats.**ttest_rel**(after, before)\n",
    "\n",
    "     \n",
    "\n",
    "2. 독립표본 t검정(independent sample t-test)\n",
    "\n",
    "   - 두 개의 독립된 모집단의 평균을 비교\n",
    "   - stats.**ttest_ind**(after, before, equal_var = False)"
   ]
  },
  {
   "cell_type": "code",
   "execution_count": null,
   "metadata": {},
   "outputs": [],
   "source": []
  }
 ],
 "metadata": {
  "kernelspec": {
   "display_name": "Python 3",
   "language": "python",
   "name": "python3"
  },
  "language_info": {
   "codemirror_mode": {
    "name": "ipython",
    "version": 3
   },
   "file_extension": ".py",
   "mimetype": "text/x-python",
   "name": "python",
   "nbconvert_exporter": "python",
   "pygments_lexer": "ipython3",
   "version": "3.7.6"
  },
  "toc": {
   "base_numbering": 1,
   "nav_menu": {},
   "number_sections": false,
   "sideBar": true,
   "skip_h1_title": false,
   "title_cell": "Table of Contents",
   "title_sidebar": "Contents",
   "toc_cell": false,
   "toc_position": {
    "height": "780px",
    "left": "179px",
    "top": "195.467px",
    "width": "250.667px"
   },
   "toc_section_display": true,
   "toc_window_display": true
  }
 },
 "nbformat": 4,
 "nbformat_minor": 4
}
